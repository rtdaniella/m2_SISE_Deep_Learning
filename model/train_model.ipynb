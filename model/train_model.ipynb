{
 "cells": [
  {
   "cell_type": "markdown",
   "metadata": {},
   "source": [
    "### Charger les données"
   ]
  },
  {
   "cell_type": "code",
   "execution_count": 11,
   "metadata": {},
   "outputs": [
    {
     "name": "stdout",
     "output_type": "stream",
     "text": [
      "Fichier trouvé\n"
     ]
    }
   ],
   "source": [
    "import os\n",
    "\n",
    "data_path = \"datasets/data.yaml\"  # Chemin relatif\n",
    "\n",
    "if not os.path.exists(data_path):\n",
    "    raise FileNotFoundError(f\"Le fichier data.yaml est introuvable à {data_path}\")\n",
    "\n",
    "print(\"Fichier trouvé\")"
   ]
  },
  {
   "cell_type": "markdown",
   "metadata": {},
   "source": [
    "### Entrainement du modèle avec une ligne de commande"
   ]
  },
  {
   "cell_type": "code",
   "execution_count": null,
   "metadata": {},
   "outputs": [],
   "source": [
    "!! yolo task=detect mode=train model=yolov8s.pt data=D:/projects_2025/m2_SISE_Deep_Learning/data/data.yaml epochs=100 pretrained=True mosaic=1.0 hsv_h=0.05 hsv_s=0.8 hsv_v=0.6 fliplr=0.5 project=D:/projects_2025/m2_SISE_Deep_Learning/model_yolov8s_n100"
   ]
  },
  {
   "cell_type": "markdown",
   "metadata": {},
   "source": [
    "### Entrainement du modèle avec python"
   ]
  },
  {
   "cell_type": "code",
   "execution_count": null,
   "metadata": {},
   "outputs": [],
   "source": [
    "from ultralytics import YOLO\n",
    "\n",
    "# Charger le modèle YOLOv8 pré-entraîné \n",
    "model = YOLO(\"yolo11n.pt\")  # Modèle nano, ou remplacer par \"yolov8s.pt\" si nécessaire\n",
    "\n",
    "# Entraînement avec des paramètres adaptés aux petits datasets\n",
    "model.train(\n",
    "    data=\"datasets/data.yaml\",  # Dataset\n",
    "    epochs=100,  \n",
    "    batch=8, \n",
    "    imgsz=640,  \n",
    "    pretrained=True, \n",
    "    project=\"../model_yolo\",\n",
    "    optimizer=\"AdamW\",  # Améliore l'entraînement sur petits datasets\n",
    "    lr0=0.001,  # Apprentissage plus lent pour éviter overfitting\n",
    "    patience=20,\n",
    "    augment=True, \n",
    "    mosaic=1.0, \n",
    "    hsv_h=0.05, hsv_s=0.8, hsv_v=0.6,  # Variations de couleur\n",
    "    fliplr=0.5  \n",
    ")"
   ]
  }
 ],
 "metadata": {
  "kernelspec": {
   "display_name": "deep-env",
   "language": "python",
   "name": "python3"
  },
  "language_info": {
   "codemirror_mode": {
    "name": "ipython",
    "version": 3
   },
   "file_extension": ".py",
   "mimetype": "text/x-python",
   "name": "python",
   "nbconvert_exporter": "python",
   "pygments_lexer": "ipython3",
   "version": "3.12.8"
  }
 },
 "nbformat": 4,
 "nbformat_minor": 2
}
