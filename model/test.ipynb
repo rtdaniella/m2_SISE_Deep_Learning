{
 "cells": [
  {
   "cell_type": "markdown",
   "metadata": {},
   "source": [
    "### Charger le modèle et les données"
   ]
  },
  {
   "cell_type": "code",
   "execution_count": null,
   "metadata": {},
   "outputs": [
    {
     "name": "stdout",
     "output_type": "stream",
     "text": [
      "Creating new Ultralytics Settings v0.0.6 file  \n",
      "View Ultralytics Settings with 'yolo settings' or at 'C:\\Users\\mrand\\AppData\\Roaming\\Ultralytics\\settings.json'\n",
      "Update Settings with 'yolo settings key=value', i.e. 'yolo settings runs_dir=path/to/dir'. For help see https://docs.ultralytics.com/quickstart/#ultralytics-settings.\n",
      "Downloading https://github.com/ultralytics/assets/releases/download/v8.3.0/yolov8n.pt to 'yolov8n.pt'...\n"
     ]
    },
    {
     "name": "stderr",
     "output_type": "stream",
     "text": [
      "100%|██████████| 6.25M/6.25M [00:00<00:00, 18.6MB/s]\n"
     ]
    }
   ],
   "source": [
    "from ultralytics import YOLO"
   ]
  },
  {
   "cell_type": "code",
   "execution_count": 2,
   "metadata": {},
   "outputs": [],
   "source": [
    "model = YOLO(\"yolov8n.pt\")"
   ]
  },
  {
   "cell_type": "code",
   "execution_count": 18,
   "metadata": {},
   "outputs": [
    {
     "name": "stdout",
     "output_type": "stream",
     "text": [
      "Fichier trouvé\n"
     ]
    }
   ],
   "source": [
    "import os\n",
    "\n",
    "data_path = \"../data/data.yaml\"  # Chemin relatif\n",
    "\n",
    "if not os.path.exists(data_path):\n",
    "    raise FileNotFoundError(f\"Le fichier data.yaml est introuvable à {data_path}\")\n",
    "\n",
    "print(\"Fichier trouvé\")"
   ]
  },
  {
   "cell_type": "code",
   "execution_count": 19,
   "metadata": {},
   "outputs": [
    {
     "name": "stdout",
     "output_type": "stream",
     "text": [
      "✅ Dossier trouvé : ../data/train_data/images\n",
      "✅ Dossier trouvé : ../data/test_data/images\n"
     ]
    }
   ],
   "source": [
    "import os\n",
    "\n",
    "train_path = \"../data/train_data/images\"\n",
    "val_path = \"../data/test_data/images\"\n",
    "\n",
    "if not os.path.exists(train_path):\n",
    "    print(f\"❌ Dossier introuvable : {train_path}\")\n",
    "else:\n",
    "    print(f\"✅ Dossier trouvé : {train_path}\")\n",
    "\n",
    "if not os.path.exists(val_path):\n",
    "    print(f\"❌ Dossier introuvable : {val_path}\")\n",
    "else:\n",
    "    print(f\"✅ Dossier trouvé : {val_path}\")\n"
   ]
  },
  {
   "cell_type": "code",
   "execution_count": 24,
   "metadata": {},
   "outputs": [
    {
     "name": "stdout",
     "output_type": "stream",
     "text": [
      "Ultralytics 8.3.74  Python-3.12.8 torch-2.6.0+cpu CPU (Intel Core(TM) i7-9750H 2.60GHz)\n",
      "\u001b[34m\u001b[1mengine\\trainer: \u001b[0mtask=detect, mode=train, model=yolov8n.pt, data=D:/projects_2025/m2_SISE_Deep_Learning/data/data.yaml, epochs=50, time=None, patience=100, batch=16, imgsz=640, save=True, save_period=-1, cache=False, device=None, workers=8, project=None, name=train8, exist_ok=False, pretrained=True, optimizer=auto, verbose=True, seed=0, deterministic=True, single_cls=False, rect=False, cos_lr=False, close_mosaic=10, resume=False, amp=True, fraction=1.0, profile=False, freeze=None, multi_scale=False, overlap_mask=True, mask_ratio=4, dropout=0.0, val=True, split=val, save_json=False, save_hybrid=False, conf=None, iou=0.7, max_det=300, half=False, dnn=False, plots=True, source=None, vid_stride=1, stream_buffer=False, visualize=False, augment=False, agnostic_nms=False, classes=None, retina_masks=False, embed=None, show=False, save_frames=False, save_txt=False, save_conf=False, save_crop=False, show_labels=True, show_conf=True, show_boxes=True, line_width=None, format=torchscript, keras=False, optimize=False, int8=False, dynamic=False, simplify=True, opset=None, workspace=None, nms=False, lr0=0.01, lrf=0.01, momentum=0.937, weight_decay=0.0005, warmup_epochs=3.0, warmup_momentum=0.8, warmup_bias_lr=0.1, box=7.5, cls=0.5, dfl=1.5, pose=12.0, kobj=1.0, nbs=64, hsv_h=0.015, hsv_s=0.7, hsv_v=0.4, degrees=0.0, translate=0.1, scale=0.5, shear=0.0, perspective=0.0, flipud=0.0, fliplr=0.5, bgr=0.0, mosaic=1.0, mixup=0.0, copy_paste=0.0, copy_paste_mode=flip, auto_augment=randaugment, erasing=0.4, crop_fraction=1.0, cfg=None, tracker=botsort.yaml, save_dir=runs\\detect\\train8\n",
      "\n",
      "                   from  n    params  module                                       arguments                     \n",
      "  0                  -1  1       464  ultralytics.nn.modules.conv.Conv             [3, 16, 3, 2]                 \n",
      "  1                  -1  1      4672  ultralytics.nn.modules.conv.Conv             [16, 32, 3, 2]                \n",
      "  2                  -1  1      7360  ultralytics.nn.modules.block.C2f             [32, 32, 1, True]             \n",
      "  3                  -1  1     18560  ultralytics.nn.modules.conv.Conv             [32, 64, 3, 2]                \n",
      "  4                  -1  2     49664  ultralytics.nn.modules.block.C2f             [64, 64, 2, True]             \n",
      "  5                  -1  1     73984  ultralytics.nn.modules.conv.Conv             [64, 128, 3, 2]               \n",
      "  6                  -1  2    197632  ultralytics.nn.modules.block.C2f             [128, 128, 2, True]           \n",
      "  7                  -1  1    295424  ultralytics.nn.modules.conv.Conv             [128, 256, 3, 2]              \n",
      "  8                  -1  1    460288  ultralytics.nn.modules.block.C2f             [256, 256, 1, True]           \n",
      "  9                  -1  1    164608  ultralytics.nn.modules.block.SPPF            [256, 256, 5]                 \n",
      " 10                  -1  1         0  torch.nn.modules.upsampling.Upsample         [None, 2, 'nearest']          \n",
      " 11             [-1, 6]  1         0  ultralytics.nn.modules.conv.Concat           [1]                           \n",
      " 12                  -1  1    148224  ultralytics.nn.modules.block.C2f             [384, 128, 1]                 \n",
      " 13                  -1  1         0  torch.nn.modules.upsampling.Upsample         [None, 2, 'nearest']          \n",
      " 14             [-1, 4]  1         0  ultralytics.nn.modules.conv.Concat           [1]                           \n",
      " 15                  -1  1     37248  ultralytics.nn.modules.block.C2f             [192, 64, 1]                  \n",
      " 16                  -1  1     36992  ultralytics.nn.modules.conv.Conv             [64, 64, 3, 2]                \n",
      " 17            [-1, 12]  1         0  ultralytics.nn.modules.conv.Concat           [1]                           \n",
      " 18                  -1  1    123648  ultralytics.nn.modules.block.C2f             [192, 128, 1]                 \n",
      " 19                  -1  1    147712  ultralytics.nn.modules.conv.Conv             [128, 128, 3, 2]              \n",
      " 20             [-1, 9]  1         0  ultralytics.nn.modules.conv.Concat           [1]                           \n",
      " 21                  -1  1    493056  ultralytics.nn.modules.block.C2f             [384, 256, 1]                 \n",
      " 22        [15, 18, 21]  1    752287  ultralytics.nn.modules.head.Detect           [5, [64, 128, 256]]           \n",
      "Model summary: 225 layers, 3,011,823 parameters, 3,011,807 gradients, 8.2 GFLOPs\n",
      "\n",
      "Transferred 355/355 items from pretrained weights\n",
      "Freezing layer 'model.22.dfl.conv.weight'\n"
     ]
    },
    {
     "name": "stderr",
     "output_type": "stream",
     "text": [
      "\u001b[34m\u001b[1mtrain: \u001b[0mScanning D:\\projects_2025\\m2_SISE_Deep_Learning\\data\\train_data\\labels... 100 images, 0 backgrounds, 100 corrupt: 100%|██████████| 100/100 [00:00<00:00, 1443.41it/s]"
     ]
    },
    {
     "name": "stdout",
     "output_type": "stream",
     "text": [
      "\u001b[34m\u001b[1mtrain: \u001b[0mWARNING  D:\\projects_2025\\m2_SISE_Deep_Learning\\data\\train_data\\images\\1126453.jpg: ignoring corrupt image/label: Label class 16 exceeds dataset class count 5. Possible class labels are 0-4\n",
      "\u001b[34m\u001b[1mtrain: \u001b[0mWARNING  D:\\projects_2025\\m2_SISE_Deep_Learning\\data\\train_data\\images\\1133382.jpg: ignoring corrupt image/label: Label class 16 exceeds dataset class count 5. Possible class labels are 0-4\n",
      "\u001b[34m\u001b[1mtrain: \u001b[0mWARNING  D:\\projects_2025\\m2_SISE_Deep_Learning\\data\\train_data\\images\\1170104.jpg: ignoring corrupt image/label: Label class 17 exceeds dataset class count 5. Possible class labels are 0-4\n",
      "\u001b[34m\u001b[1mtrain: \u001b[0mWARNING  D:\\projects_2025\\m2_SISE_Deep_Learning\\data\\train_data\\images\\1181766.jpg: ignoring corrupt image/label: Label class 17 exceeds dataset class count 5. Possible class labels are 0-4\n",
      "\u001b[34m\u001b[1mtrain: \u001b[0mWARNING  D:\\projects_2025\\m2_SISE_Deep_Learning\\data\\train_data\\images\\1199754.jpg: ignoring corrupt image/label: Label class 16 exceeds dataset class count 5. Possible class labels are 0-4\n",
      "\u001b[34m\u001b[1mtrain: \u001b[0mWARNING  D:\\projects_2025\\m2_SISE_Deep_Learning\\data\\train_data\\images\\1226649.jpg: ignoring corrupt image/label: Label class 18 exceeds dataset class count 5. Possible class labels are 0-4\n",
      "\u001b[34m\u001b[1mtrain: \u001b[0mWARNING  D:\\projects_2025\\m2_SISE_Deep_Learning\\data\\train_data\\images\\1337536.jpg: ignoring corrupt image/label: Label class 17 exceeds dataset class count 5. Possible class labels are 0-4\n",
      "\u001b[34m\u001b[1mtrain: \u001b[0mWARNING  D:\\projects_2025\\m2_SISE_Deep_Learning\\data\\train_data\\images\\1393047.jpg: ignoring corrupt image/label: Label class 19 exceeds dataset class count 5. Possible class labels are 0-4\n",
      "\u001b[34m\u001b[1mtrain: \u001b[0mWARNING  D:\\projects_2025\\m2_SISE_Deep_Learning\\data\\train_data\\images\\1423515.jpg: ignoring corrupt image/label: Label class 15 exceeds dataset class count 5. Possible class labels are 0-4\n",
      "\u001b[34m\u001b[1mtrain: \u001b[0mWARNING  D:\\projects_2025\\m2_SISE_Deep_Learning\\data\\train_data\\images\\1459413.jpg: ignoring corrupt image/label: Label class 17 exceeds dataset class count 5. Possible class labels are 0-4\n",
      "\u001b[34m\u001b[1mtrain: \u001b[0mWARNING  D:\\projects_2025\\m2_SISE_Deep_Learning\\data\\train_data\\images\\1490964.jpg: ignoring corrupt image/label: Label class 19 exceeds dataset class count 5. Possible class labels are 0-4\n",
      "\u001b[34m\u001b[1mtrain: \u001b[0mWARNING  D:\\projects_2025\\m2_SISE_Deep_Learning\\data\\train_data\\images\\1567823.jpg: ignoring corrupt image/label: Label class 17 exceeds dataset class count 5. Possible class labels are 0-4\n",
      "\u001b[34m\u001b[1mtrain: \u001b[0mWARNING  D:\\projects_2025\\m2_SISE_Deep_Learning\\data\\train_data\\images\\1577236.jpg: ignoring corrupt image/label: Label class 16 exceeds dataset class count 5. Possible class labels are 0-4\n",
      "\u001b[34m\u001b[1mtrain: \u001b[0mWARNING  D:\\projects_2025\\m2_SISE_Deep_Learning\\data\\train_data\\images\\1582025.jpg: ignoring corrupt image/label: Label class 16 exceeds dataset class count 5. Possible class labels are 0-4\n",
      "\u001b[34m\u001b[1mtrain: \u001b[0mWARNING  D:\\projects_2025\\m2_SISE_Deep_Learning\\data\\train_data\\images\\1594097.jpg: ignoring corrupt image/label: Label class 15 exceeds dataset class count 5. Possible class labels are 0-4\n",
      "\u001b[34m\u001b[1mtrain: \u001b[0mWARNING  D:\\projects_2025\\m2_SISE_Deep_Learning\\data\\train_data\\images\\1636661.jpg: ignoring corrupt image/label: Label class 16 exceeds dataset class count 5. Possible class labels are 0-4\n",
      "\u001b[34m\u001b[1mtrain: \u001b[0mWARNING  D:\\projects_2025\\m2_SISE_Deep_Learning\\data\\train_data\\images\\1642141.jpg: ignoring corrupt image/label: Label class 16 exceeds dataset class count 5. Possible class labels are 0-4\n",
      "\u001b[34m\u001b[1mtrain: \u001b[0mWARNING  D:\\projects_2025\\m2_SISE_Deep_Learning\\data\\train_data\\images\\1712104.jpg: ignoring corrupt image/label: Label class 18 exceeds dataset class count 5. Possible class labels are 0-4\n",
      "\u001b[34m\u001b[1mtrain: \u001b[0mWARNING  D:\\projects_2025\\m2_SISE_Deep_Learning\\data\\train_data\\images\\1718861.jpg: ignoring corrupt image/label: Label class 19 exceeds dataset class count 5. Possible class labels are 0-4\n",
      "\u001b[34m\u001b[1mtrain: \u001b[0mWARNING  D:\\projects_2025\\m2_SISE_Deep_Learning\\data\\train_data\\images\\1733250.jpg: ignoring corrupt image/label: Label class 17 exceeds dataset class count 5. Possible class labels are 0-4\n",
      "\u001b[34m\u001b[1mtrain: \u001b[0mWARNING  D:\\projects_2025\\m2_SISE_Deep_Learning\\data\\train_data\\images\\1752577.jpg: ignoring corrupt image/label: Label class 19 exceeds dataset class count 5. Possible class labels are 0-4\n",
      "\u001b[34m\u001b[1mtrain: \u001b[0mWARNING  D:\\projects_2025\\m2_SISE_Deep_Learning\\data\\train_data\\images\\1797194.jpg: ignoring corrupt image/label: Label class 19 exceeds dataset class count 5. Possible class labels are 0-4\n",
      "\u001b[34m\u001b[1mtrain: \u001b[0mWARNING  D:\\projects_2025\\m2_SISE_Deep_Learning\\data\\train_data\\images\\1845621.jpg: ignoring corrupt image/label: Label class 16 exceeds dataset class count 5. Possible class labels are 0-4\n",
      "\u001b[34m\u001b[1mtrain: \u001b[0mWARNING  D:\\projects_2025\\m2_SISE_Deep_Learning\\data\\train_data\\images\\1908105.jpg: ignoring corrupt image/label: Label class 17 exceeds dataset class count 5. Possible class labels are 0-4\n",
      "\u001b[34m\u001b[1mtrain: \u001b[0mWARNING  D:\\projects_2025\\m2_SISE_Deep_Learning\\data\\train_data\\images\\2005858.jpg: ignoring corrupt image/label: Label class 19 exceeds dataset class count 5. Possible class labels are 0-4\n",
      "\u001b[34m\u001b[1mtrain: \u001b[0mWARNING  D:\\projects_2025\\m2_SISE_Deep_Learning\\data\\train_data\\images\\2040049.jpg: ignoring corrupt image/label: Label class 16 exceeds dataset class count 5. Possible class labels are 0-4\n",
      "\u001b[34m\u001b[1mtrain: \u001b[0mWARNING  D:\\projects_2025\\m2_SISE_Deep_Learning\\data\\train_data\\images\\2068689.jpg: ignoring corrupt image/label: Label class 19 exceeds dataset class count 5. Possible class labels are 0-4\n",
      "\u001b[34m\u001b[1mtrain: \u001b[0mWARNING  D:\\projects_2025\\m2_SISE_Deep_Learning\\data\\train_data\\images\\209090.jpg: ignoring corrupt image/label: Label class 18 exceeds dataset class count 5. Possible class labels are 0-4\n",
      "\u001b[34m\u001b[1mtrain: \u001b[0mWARNING  D:\\projects_2025\\m2_SISE_Deep_Learning\\data\\train_data\\images\\2091683.jpg: ignoring corrupt image/label: Label class 16 exceeds dataset class count 5. Possible class labels are 0-4\n",
      "\u001b[34m\u001b[1mtrain: \u001b[0mWARNING  D:\\projects_2025\\m2_SISE_Deep_Learning\\data\\train_data\\images\\212746.jpg: ignoring corrupt image/label: Label class 17 exceeds dataset class count 5. Possible class labels are 0-4\n",
      "\u001b[34m\u001b[1mtrain: \u001b[0mWARNING  D:\\projects_2025\\m2_SISE_Deep_Learning\\data\\train_data\\images\\2262956.jpg: ignoring corrupt image/label: Label class 16 exceeds dataset class count 5. Possible class labels are 0-4\n",
      "\u001b[34m\u001b[1mtrain: \u001b[0mWARNING  D:\\projects_2025\\m2_SISE_Deep_Learning\\data\\train_data\\images\\2276986.jpg: ignoring corrupt image/label: Label class 18 exceeds dataset class count 5. Possible class labels are 0-4\n",
      "\u001b[34m\u001b[1mtrain: \u001b[0mWARNING  D:\\projects_2025\\m2_SISE_Deep_Learning\\data\\train_data\\images\\231857.jpg: ignoring corrupt image/label: Label class 16 exceeds dataset class count 5. Possible class labels are 0-4\n",
      "\u001b[34m\u001b[1mtrain: \u001b[0mWARNING  D:\\projects_2025\\m2_SISE_Deep_Learning\\data\\train_data\\images\\2405850.jpg: ignoring corrupt image/label: Label class 17 exceeds dataset class count 5. Possible class labels are 0-4\n",
      "\u001b[34m\u001b[1mtrain: \u001b[0mWARNING  D:\\projects_2025\\m2_SISE_Deep_Learning\\data\\train_data\\images\\243709.jpg: ignoring corrupt image/label: Label class 17 exceeds dataset class count 5. Possible class labels are 0-4\n",
      "\u001b[34m\u001b[1mtrain: \u001b[0mWARNING  D:\\projects_2025\\m2_SISE_Deep_Learning\\data\\train_data\\images\\2487039.jpg: ignoring corrupt image/label: Label class 15 exceeds dataset class count 5. Possible class labels are 0-4\n",
      "\u001b[34m\u001b[1mtrain: \u001b[0mWARNING  D:\\projects_2025\\m2_SISE_Deep_Learning\\data\\train_data\\images\\2557340.jpg: ignoring corrupt image/label: Label class 15 exceeds dataset class count 5. Possible class labels are 0-4\n",
      "\u001b[34m\u001b[1mtrain: \u001b[0mWARNING  D:\\projects_2025\\m2_SISE_Deep_Learning\\data\\train_data\\images\\256294.jpg: ignoring corrupt image/label: Label class 17 exceeds dataset class count 5. Possible class labels are 0-4\n",
      "\u001b[34m\u001b[1mtrain: \u001b[0mWARNING  D:\\projects_2025\\m2_SISE_Deep_Learning\\data\\train_data\\images\\2569827.jpg: ignoring corrupt image/label: Label class 16 exceeds dataset class count 5. Possible class labels are 0-4\n",
      "\u001b[34m\u001b[1mtrain: \u001b[0mWARNING  D:\\projects_2025\\m2_SISE_Deep_Learning\\data\\train_data\\images\\257295.jpg: ignoring corrupt image/label: Label class 18 exceeds dataset class count 5. Possible class labels are 0-4\n",
      "\u001b[34m\u001b[1mtrain: \u001b[0mWARNING  D:\\projects_2025\\m2_SISE_Deep_Learning\\data\\train_data\\images\\2607081.jpg: ignoring corrupt image/label: Label class 16 exceeds dataset class count 5. Possible class labels are 0-4\n",
      "\u001b[34m\u001b[1mtrain: \u001b[0mWARNING  D:\\projects_2025\\m2_SISE_Deep_Learning\\data\\train_data\\images\\2623508.jpg: ignoring corrupt image/label: Label class 18 exceeds dataset class count 5. Possible class labels are 0-4\n",
      "\u001b[34m\u001b[1mtrain: \u001b[0mWARNING  D:\\projects_2025\\m2_SISE_Deep_Learning\\data\\train_data\\images\\2674024.jpg: ignoring corrupt image/label: Label class 18 exceeds dataset class count 5. Possible class labels are 0-4\n",
      "\u001b[34m\u001b[1mtrain: \u001b[0mWARNING  D:\\projects_2025\\m2_SISE_Deep_Learning\\data\\train_data\\images\\2687575.jpg: ignoring corrupt image/label: Label class 15 exceeds dataset class count 5. Possible class labels are 0-4\n",
      "\u001b[34m\u001b[1mtrain: \u001b[0mWARNING  D:\\projects_2025\\m2_SISE_Deep_Learning\\data\\train_data\\images\\2707814.jpg: ignoring corrupt image/label: Label class 15 exceeds dataset class count 5. Possible class labels are 0-4\n",
      "\u001b[34m\u001b[1mtrain: \u001b[0mWARNING  D:\\projects_2025\\m2_SISE_Deep_Learning\\data\\train_data\\images\\272642.jpg: ignoring corrupt image/label: Label class 17 exceeds dataset class count 5. Possible class labels are 0-4\n",
      "\u001b[34m\u001b[1mtrain: \u001b[0mWARNING  D:\\projects_2025\\m2_SISE_Deep_Learning\\data\\train_data\\images\\2726558.jpg: ignoring corrupt image/label: Label class 17 exceeds dataset class count 5. Possible class labels are 0-4\n",
      "\u001b[34m\u001b[1mtrain: \u001b[0mWARNING  D:\\projects_2025\\m2_SISE_Deep_Learning\\data\\train_data\\images\\274945.jpg: ignoring corrupt image/label: Label class 15 exceeds dataset class count 5. Possible class labels are 0-4\n",
      "\u001b[34m\u001b[1mtrain: \u001b[0mWARNING  D:\\projects_2025\\m2_SISE_Deep_Learning\\data\\train_data\\images\\277584.jpg: ignoring corrupt image/label: Label class 17 exceeds dataset class count 5. Possible class labels are 0-4\n",
      "\u001b[34m\u001b[1mtrain: \u001b[0mWARNING  D:\\projects_2025\\m2_SISE_Deep_Learning\\data\\train_data\\images\\2783225.jpg: ignoring corrupt image/label: Label class 16 exceeds dataset class count 5. Possible class labels are 0-4\n",
      "\u001b[34m\u001b[1mtrain: \u001b[0mWARNING  D:\\projects_2025\\m2_SISE_Deep_Learning\\data\\train_data\\images\\2860811.jpg: ignoring corrupt image/label: Label class 16 exceeds dataset class count 5. Possible class labels are 0-4\n",
      "\u001b[34m\u001b[1mtrain: \u001b[0mWARNING  D:\\projects_2025\\m2_SISE_Deep_Learning\\data\\train_data\\images\\2990023.jpg: ignoring corrupt image/label: Label class 15 exceeds dataset class count 5. Possible class labels are 0-4\n",
      "\u001b[34m\u001b[1mtrain: \u001b[0mWARNING  D:\\projects_2025\\m2_SISE_Deep_Learning\\data\\train_data\\images\\306238.jpg: ignoring corrupt image/label: Label class 18 exceeds dataset class count 5. Possible class labels are 0-4\n",
      "\u001b[34m\u001b[1mtrain: \u001b[0mWARNING  D:\\projects_2025\\m2_SISE_Deep_Learning\\data\\train_data\\images\\3090616.jpg: ignoring corrupt image/label: Label class 19 exceeds dataset class count 5. Possible class labels are 0-4\n",
      "\u001b[34m\u001b[1mtrain: \u001b[0mWARNING  D:\\projects_2025\\m2_SISE_Deep_Learning\\data\\train_data\\images\\309892.jpg: ignoring corrupt image/label: Label class 15 exceeds dataset class count 5. Possible class labels are 0-4\n",
      "\u001b[34m\u001b[1mtrain: \u001b[0mWARNING  D:\\projects_2025\\m2_SISE_Deep_Learning\\data\\train_data\\images\\3152740.jpg: ignoring corrupt image/label: Label class 16 exceeds dataset class count 5. Possible class labels are 0-4\n",
      "\u001b[34m\u001b[1mtrain: \u001b[0mWARNING  D:\\projects_2025\\m2_SISE_Deep_Learning\\data\\train_data\\images\\3190389.jpg: ignoring corrupt image/label: Label class 16 exceeds dataset class count 5. Possible class labels are 0-4\n",
      "\u001b[34m\u001b[1mtrain: \u001b[0mWARNING  D:\\projects_2025\\m2_SISE_Deep_Learning\\data\\train_data\\images\\3248869.jpg: ignoring corrupt image/label: Label class 15 exceeds dataset class count 5. Possible class labels are 0-4\n",
      "\u001b[34m\u001b[1mtrain: \u001b[0mWARNING  D:\\projects_2025\\m2_SISE_Deep_Learning\\data\\train_data\\images\\330566.jpg: ignoring corrupt image/label: Label class 17 exceeds dataset class count 5. Possible class labels are 0-4\n",
      "\u001b[34m\u001b[1mtrain: \u001b[0mWARNING  D:\\projects_2025\\m2_SISE_Deep_Learning\\data\\train_data\\images\\334722.jpg: ignoring corrupt image/label: Label class 18 exceeds dataset class count 5. Possible class labels are 0-4\n",
      "\u001b[34m\u001b[1mtrain: \u001b[0mWARNING  D:\\projects_2025\\m2_SISE_Deep_Learning\\data\\train_data\\images\\337272.jpg: ignoring corrupt image/label: Label class 15 exceeds dataset class count 5. Possible class labels are 0-4\n",
      "\u001b[34m\u001b[1mtrain: \u001b[0mWARNING  D:\\projects_2025\\m2_SISE_Deep_Learning\\data\\train_data\\images\\3441394.jpg: ignoring corrupt image/label: Label class 15 exceeds dataset class count 5. Possible class labels are 0-4\n",
      "\u001b[34m\u001b[1mtrain: \u001b[0mWARNING  D:\\projects_2025\\m2_SISE_Deep_Learning\\data\\train_data\\images\\3484590.jpg: ignoring corrupt image/label: Label class 15 exceeds dataset class count 5. Possible class labels are 0-4\n",
      "\u001b[34m\u001b[1mtrain: \u001b[0mWARNING  D:\\projects_2025\\m2_SISE_Deep_Learning\\data\\train_data\\images\\349846.jpg: ignoring corrupt image/label: Label class 16 exceeds dataset class count 5. Possible class labels are 0-4\n",
      "\u001b[34m\u001b[1mtrain: \u001b[0mWARNING  D:\\projects_2025\\m2_SISE_Deep_Learning\\data\\train_data\\images\\361026.jpg: ignoring corrupt image/label: Label class 19 exceeds dataset class count 5. Possible class labels are 0-4\n",
      "\u001b[34m\u001b[1mtrain: \u001b[0mWARNING  D:\\projects_2025\\m2_SISE_Deep_Learning\\data\\train_data\\images\\3669673.jpg: ignoring corrupt image/label: Label class 15 exceeds dataset class count 5. Possible class labels are 0-4\n",
      "\u001b[34m\u001b[1mtrain: \u001b[0mWARNING  D:\\projects_2025\\m2_SISE_Deep_Learning\\data\\train_data\\images\\3741248.jpg: ignoring corrupt image/label: Label class 17 exceeds dataset class count 5. Possible class labels are 0-4\n",
      "\u001b[34m\u001b[1mtrain: \u001b[0mWARNING  D:\\projects_2025\\m2_SISE_Deep_Learning\\data\\train_data\\images\\3822139.jpg: ignoring corrupt image/label: Label class 15 exceeds dataset class count 5. Possible class labels are 0-4\n",
      "\u001b[34m\u001b[1mtrain: \u001b[0mWARNING  D:\\projects_2025\\m2_SISE_Deep_Learning\\data\\train_data\\images\\383940.jpg: ignoring corrupt image/label: Label class 19 exceeds dataset class count 5. Possible class labels are 0-4\n",
      "\u001b[34m\u001b[1mtrain: \u001b[0mWARNING  D:\\projects_2025\\m2_SISE_Deep_Learning\\data\\train_data\\images\\3845083.jpg: ignoring corrupt image/label: Label class 15 exceeds dataset class count 5. Possible class labels are 0-4\n",
      "\u001b[34m\u001b[1mtrain: \u001b[0mWARNING  D:\\projects_2025\\m2_SISE_Deep_Learning\\data\\train_data\\images\\395122.jpg: ignoring corrupt image/label: Label class 19 exceeds dataset class count 5. Possible class labels are 0-4\n",
      "\u001b[34m\u001b[1mtrain: \u001b[0mWARNING  D:\\projects_2025\\m2_SISE_Deep_Learning\\data\\train_data\\images\\402797.jpg: ignoring corrupt image/label: Label class 18 exceeds dataset class count 5. Possible class labels are 0-4\n",
      "\u001b[34m\u001b[1mtrain: \u001b[0mWARNING  D:\\projects_2025\\m2_SISE_Deep_Learning\\data\\train_data\\images\\405182.jpg: ignoring corrupt image/label: Label class 19 exceeds dataset class count 5. Possible class labels are 0-4\n",
      "\u001b[34m\u001b[1mtrain: \u001b[0mWARNING  D:\\projects_2025\\m2_SISE_Deep_Learning\\data\\train_data\\images\\413710.jpg: ignoring corrupt image/label: Label class 15 exceeds dataset class count 5. Possible class labels are 0-4\n",
      "\u001b[34m\u001b[1mtrain: \u001b[0mWARNING  D:\\projects_2025\\m2_SISE_Deep_Learning\\data\\train_data\\images\\460108.jpg: ignoring corrupt image/label: Label class 17 exceeds dataset class count 5. Possible class labels are 0-4\n",
      "\u001b[34m\u001b[1mtrain: \u001b[0mWARNING  D:\\projects_2025\\m2_SISE_Deep_Learning\\data\\train_data\\images\\466390.jpg: ignoring corrupt image/label: Label class 19 exceeds dataset class count 5. Possible class labels are 0-4\n",
      "\u001b[34m\u001b[1mtrain: \u001b[0mWARNING  D:\\projects_2025\\m2_SISE_Deep_Learning\\data\\train_data\\images\\519734.jpg: ignoring corrupt image/label: Label class 18 exceeds dataset class count 5. Possible class labels are 0-4\n",
      "\u001b[34m\u001b[1mtrain: \u001b[0mWARNING  D:\\projects_2025\\m2_SISE_Deep_Learning\\data\\train_data\\images\\527650.jpg: ignoring corrupt image/label: Label class 18 exceeds dataset class count 5. Possible class labels are 0-4\n",
      "\u001b[34m\u001b[1mtrain: \u001b[0mWARNING  D:\\projects_2025\\m2_SISE_Deep_Learning\\data\\train_data\\images\\573054.jpg: ignoring corrupt image/label: Label class 15 exceeds dataset class count 5. Possible class labels are 0-4\n",
      "\u001b[34m\u001b[1mtrain: \u001b[0mWARNING  D:\\projects_2025\\m2_SISE_Deep_Learning\\data\\train_data\\images\\575058.jpg: ignoring corrupt image/label: Label class 19 exceeds dataset class count 5. Possible class labels are 0-4\n",
      "\u001b[34m\u001b[1mtrain: \u001b[0mWARNING  D:\\projects_2025\\m2_SISE_Deep_Learning\\data\\train_data\\images\\575853.jpg: ignoring corrupt image/label: Label class 18 exceeds dataset class count 5. Possible class labels are 0-4\n",
      "\u001b[34m\u001b[1mtrain: \u001b[0mWARNING  D:\\projects_2025\\m2_SISE_Deep_Learning\\data\\train_data\\images\\579407.jpg: ignoring corrupt image/label: Label class 19 exceeds dataset class count 5. Possible class labels are 0-4\n",
      "\u001b[34m\u001b[1mtrain: \u001b[0mWARNING  D:\\projects_2025\\m2_SISE_Deep_Learning\\data\\train_data\\images\\598638.jpg: ignoring corrupt image/label: Label class 19 exceeds dataset class count 5. Possible class labels are 0-4\n",
      "\u001b[34m\u001b[1mtrain: \u001b[0mWARNING  D:\\projects_2025\\m2_SISE_Deep_Learning\\data\\train_data\\images\\613983.jpg: ignoring corrupt image/label: Label class 17 exceeds dataset class count 5. Possible class labels are 0-4\n",
      "\u001b[34m\u001b[1mtrain: \u001b[0mWARNING  D:\\projects_2025\\m2_SISE_Deep_Learning\\data\\train_data\\images\\669934.jpg: ignoring corrupt image/label: Label class 19 exceeds dataset class count 5. Possible class labels are 0-4\n",
      "\u001b[34m\u001b[1mtrain: \u001b[0mWARNING  D:\\projects_2025\\m2_SISE_Deep_Learning\\data\\train_data\\images\\698179.jpg: ignoring corrupt image/label: Label class 19 exceeds dataset class count 5. Possible class labels are 0-4\n",
      "\u001b[34m\u001b[1mtrain: \u001b[0mWARNING  D:\\projects_2025\\m2_SISE_Deep_Learning\\data\\train_data\\images\\716319.jpg: ignoring corrupt image/label: Label class 18 exceeds dataset class count 5. Possible class labels are 0-4\n",
      "\u001b[34m\u001b[1mtrain: \u001b[0mWARNING  D:\\projects_2025\\m2_SISE_Deep_Learning\\data\\train_data\\images\\751336.jpg: ignoring corrupt image/label: Label class 16 exceeds dataset class count 5. Possible class labels are 0-4\n",
      "\u001b[34m\u001b[1mtrain: \u001b[0mWARNING  D:\\projects_2025\\m2_SISE_Deep_Learning\\data\\train_data\\images\\771336.jpg: ignoring corrupt image/label: Label class 16 exceeds dataset class count 5. Possible class labels are 0-4\n",
      "\u001b[34m\u001b[1mtrain: \u001b[0mWARNING  D:\\projects_2025\\m2_SISE_Deep_Learning\\data\\train_data\\images\\804460.jpg: ignoring corrupt image/label: Label class 18 exceeds dataset class count 5. Possible class labels are 0-4\n",
      "\u001b[34m\u001b[1mtrain: \u001b[0mWARNING  D:\\projects_2025\\m2_SISE_Deep_Learning\\data\\train_data\\images\\808776.jpg: ignoring corrupt image/label: Label class 18 exceeds dataset class count 5. Possible class labels are 0-4\n",
      "\u001b[34m\u001b[1mtrain: \u001b[0mWARNING  D:\\projects_2025\\m2_SISE_Deep_Learning\\data\\train_data\\images\\810199.jpg: ignoring corrupt image/label: Label class 17 exceeds dataset class count 5. Possible class labels are 0-4\n",
      "\u001b[34m\u001b[1mtrain: \u001b[0mWARNING  D:\\projects_2025\\m2_SISE_Deep_Learning\\data\\train_data\\images\\844457.jpg: ignoring corrupt image/label: Label class 18 exceeds dataset class count 5. Possible class labels are 0-4\n",
      "\u001b[34m\u001b[1mtrain: \u001b[0mWARNING  D:\\projects_2025\\m2_SISE_Deep_Learning\\data\\train_data\\images\\851006.jpg: ignoring corrupt image/label: Label class 18 exceeds dataset class count 5. Possible class labels are 0-4\n",
      "\u001b[34m\u001b[1mtrain: \u001b[0mWARNING  D:\\projects_2025\\m2_SISE_Deep_Learning\\data\\train_data\\images\\898119.jpg: ignoring corrupt image/label: Label class 15 exceeds dataset class count 5. Possible class labels are 0-4\n",
      "\u001b[34m\u001b[1mtrain: \u001b[0mWARNING  D:\\projects_2025\\m2_SISE_Deep_Learning\\data\\train_data\\images\\909325.jpg: ignoring corrupt image/label: Label class 17 exceeds dataset class count 5. Possible class labels are 0-4\n",
      "\u001b[34m\u001b[1mtrain: \u001b[0mWARNING  D:\\projects_2025\\m2_SISE_Deep_Learning\\data\\train_data\\images\\918181.jpg: ignoring corrupt image/label: Label class 19 exceeds dataset class count 5. Possible class labels are 0-4\n",
      "\u001b[34m\u001b[1mtrain: \u001b[0mWARNING  D:\\projects_2025\\m2_SISE_Deep_Learning\\data\\train_data\\images\\955704.jpg: ignoring corrupt image/label: Label class 18 exceeds dataset class count 5. Possible class labels are 0-4\n",
      "\u001b[34m\u001b[1mtrain: \u001b[0mWARNING  D:\\projects_2025\\m2_SISE_Deep_Learning\\data\\train_data\\images\\988559.jpg: ignoring corrupt image/label: Label class 18 exceeds dataset class count 5. Possible class labels are 0-4\n",
      "\u001b[34m\u001b[1mtrain: \u001b[0mWARNING  D:\\projects_2025\\m2_SISE_Deep_Learning\\data\\train_data\\images\\995526.jpg: ignoring corrupt image/label: Label class 19 exceeds dataset class count 5. Possible class labels are 0-4\n",
      "\u001b[34m\u001b[1mtrain: \u001b[0mNew cache created: D:\\projects_2025\\m2_SISE_Deep_Learning\\data\\train_data\\labels.cache\n",
      "WARNING  No images found in D:\\projects_2025\\m2_SISE_Deep_Learning\\data\\train_data\\labels.cache, training may not work correctly. See https://docs.ultralytics.com/datasets for dataset formatting guidance.\n"
     ]
    },
    {
     "name": "stderr",
     "output_type": "stream",
     "text": [
      "\n"
     ]
    },
    {
     "ename": "ValueError",
     "evalue": "not enough values to unpack (expected 3, got 0)",
     "output_type": "error",
     "traceback": [
      "\u001b[1;31m---------------------------------------------------------------------------\u001b[0m",
      "\u001b[1;31mValueError\u001b[0m                                Traceback (most recent call last)",
      "Cell \u001b[1;32mIn[24], line 1\u001b[0m\n\u001b[1;32m----> 1\u001b[0m \u001b[43mmodel\u001b[49m\u001b[38;5;241;43m.\u001b[39;49m\u001b[43mtrain\u001b[49m\u001b[43m(\u001b[49m\n\u001b[0;32m      2\u001b[0m \u001b[43m    \u001b[49m\u001b[43mdata\u001b[49m\u001b[38;5;241;43m=\u001b[39;49m\u001b[38;5;124;43m\"\u001b[39;49m\u001b[38;5;124;43mD:/projects_2025/m2_SISE_Deep_Learning/data/data.yaml\u001b[39;49m\u001b[38;5;124;43m\"\u001b[39;49m\u001b[43m,\u001b[49m\u001b[43m \u001b[49m\n\u001b[0;32m      3\u001b[0m \u001b[43m    \u001b[49m\u001b[43mepochs\u001b[49m\u001b[38;5;241;43m=\u001b[39;49m\u001b[38;5;241;43m50\u001b[39;49m\u001b[43m,\u001b[49m\u001b[43m  \u001b[49m\n\u001b[0;32m      4\u001b[0m \u001b[43m    \u001b[49m\u001b[43mbatch\u001b[49m\u001b[38;5;241;43m=\u001b[39;49m\u001b[38;5;241;43m16\u001b[39;49m\u001b[43m  \u001b[49m\n\u001b[0;32m      5\u001b[0m \u001b[43m)\u001b[49m\n",
      "File \u001b[1;32mc:\\Users\\mrand\\anaconda3\\envs\\deep-env\\Lib\\site-packages\\ultralytics\\engine\\model.py:809\u001b[0m, in \u001b[0;36mModel.train\u001b[1;34m(self, trainer, **kwargs)\u001b[0m\n\u001b[0;32m    806\u001b[0m     \u001b[38;5;28mself\u001b[39m\u001b[38;5;241m.\u001b[39mmodel \u001b[38;5;241m=\u001b[39m \u001b[38;5;28mself\u001b[39m\u001b[38;5;241m.\u001b[39mtrainer\u001b[38;5;241m.\u001b[39mmodel\n\u001b[0;32m    808\u001b[0m \u001b[38;5;28mself\u001b[39m\u001b[38;5;241m.\u001b[39mtrainer\u001b[38;5;241m.\u001b[39mhub_session \u001b[38;5;241m=\u001b[39m \u001b[38;5;28mself\u001b[39m\u001b[38;5;241m.\u001b[39msession  \u001b[38;5;66;03m# attach optional HUB session\u001b[39;00m\n\u001b[1;32m--> 809\u001b[0m \u001b[38;5;28;43mself\u001b[39;49m\u001b[38;5;241;43m.\u001b[39;49m\u001b[43mtrainer\u001b[49m\u001b[38;5;241;43m.\u001b[39;49m\u001b[43mtrain\u001b[49m\u001b[43m(\u001b[49m\u001b[43m)\u001b[49m\n\u001b[0;32m    810\u001b[0m \u001b[38;5;66;03m# Update model and cfg after training\u001b[39;00m\n\u001b[0;32m    811\u001b[0m \u001b[38;5;28;01mif\u001b[39;00m RANK \u001b[38;5;129;01min\u001b[39;00m {\u001b[38;5;241m-\u001b[39m\u001b[38;5;241m1\u001b[39m, \u001b[38;5;241m0\u001b[39m}:\n",
      "File \u001b[1;32mc:\\Users\\mrand\\anaconda3\\envs\\deep-env\\Lib\\site-packages\\ultralytics\\engine\\trainer.py:208\u001b[0m, in \u001b[0;36mBaseTrainer.train\u001b[1;34m(self)\u001b[0m\n\u001b[0;32m    205\u001b[0m         ddp_cleanup(\u001b[38;5;28mself\u001b[39m, \u001b[38;5;28mstr\u001b[39m(file))\n\u001b[0;32m    207\u001b[0m \u001b[38;5;28;01melse\u001b[39;00m:\n\u001b[1;32m--> 208\u001b[0m     \u001b[38;5;28;43mself\u001b[39;49m\u001b[38;5;241;43m.\u001b[39;49m\u001b[43m_do_train\u001b[49m\u001b[43m(\u001b[49m\u001b[43mworld_size\u001b[49m\u001b[43m)\u001b[49m\n",
      "File \u001b[1;32mc:\\Users\\mrand\\anaconda3\\envs\\deep-env\\Lib\\site-packages\\ultralytics\\engine\\trainer.py:323\u001b[0m, in \u001b[0;36mBaseTrainer._do_train\u001b[1;34m(self, world_size)\u001b[0m\n\u001b[0;32m    321\u001b[0m \u001b[38;5;28;01mif\u001b[39;00m world_size \u001b[38;5;241m>\u001b[39m \u001b[38;5;241m1\u001b[39m:\n\u001b[0;32m    322\u001b[0m     \u001b[38;5;28mself\u001b[39m\u001b[38;5;241m.\u001b[39m_setup_ddp(world_size)\n\u001b[1;32m--> 323\u001b[0m \u001b[38;5;28;43mself\u001b[39;49m\u001b[38;5;241;43m.\u001b[39;49m\u001b[43m_setup_train\u001b[49m\u001b[43m(\u001b[49m\u001b[43mworld_size\u001b[49m\u001b[43m)\u001b[49m\n\u001b[0;32m    325\u001b[0m nb \u001b[38;5;241m=\u001b[39m \u001b[38;5;28mlen\u001b[39m(\u001b[38;5;28mself\u001b[39m\u001b[38;5;241m.\u001b[39mtrain_loader)  \u001b[38;5;66;03m# number of batches\u001b[39;00m\n\u001b[0;32m    326\u001b[0m nw \u001b[38;5;241m=\u001b[39m \u001b[38;5;28mmax\u001b[39m(\u001b[38;5;28mround\u001b[39m(\u001b[38;5;28mself\u001b[39m\u001b[38;5;241m.\u001b[39margs\u001b[38;5;241m.\u001b[39mwarmup_epochs \u001b[38;5;241m*\u001b[39m nb), \u001b[38;5;241m100\u001b[39m) \u001b[38;5;28;01mif\u001b[39;00m \u001b[38;5;28mself\u001b[39m\u001b[38;5;241m.\u001b[39margs\u001b[38;5;241m.\u001b[39mwarmup_epochs \u001b[38;5;241m>\u001b[39m \u001b[38;5;241m0\u001b[39m \u001b[38;5;28;01melse\u001b[39;00m \u001b[38;5;241m-\u001b[39m\u001b[38;5;241m1\u001b[39m  \u001b[38;5;66;03m# warmup iterations\u001b[39;00m\n",
      "File \u001b[1;32mc:\\Users\\mrand\\anaconda3\\envs\\deep-env\\Lib\\site-packages\\ultralytics\\engine\\trainer.py:287\u001b[0m, in \u001b[0;36mBaseTrainer._setup_train\u001b[1;34m(self, world_size)\u001b[0m\n\u001b[0;32m    285\u001b[0m \u001b[38;5;66;03m# Dataloaders\u001b[39;00m\n\u001b[0;32m    286\u001b[0m batch_size \u001b[38;5;241m=\u001b[39m \u001b[38;5;28mself\u001b[39m\u001b[38;5;241m.\u001b[39mbatch_size \u001b[38;5;241m/\u001b[39m\u001b[38;5;241m/\u001b[39m \u001b[38;5;28mmax\u001b[39m(world_size, \u001b[38;5;241m1\u001b[39m)\n\u001b[1;32m--> 287\u001b[0m \u001b[38;5;28mself\u001b[39m\u001b[38;5;241m.\u001b[39mtrain_loader \u001b[38;5;241m=\u001b[39m \u001b[38;5;28;43mself\u001b[39;49m\u001b[38;5;241;43m.\u001b[39;49m\u001b[43mget_dataloader\u001b[49m\u001b[43m(\u001b[49m\u001b[38;5;28;43mself\u001b[39;49m\u001b[38;5;241;43m.\u001b[39;49m\u001b[43mtrainset\u001b[49m\u001b[43m,\u001b[49m\u001b[43m \u001b[49m\u001b[43mbatch_size\u001b[49m\u001b[38;5;241;43m=\u001b[39;49m\u001b[43mbatch_size\u001b[49m\u001b[43m,\u001b[49m\u001b[43m \u001b[49m\u001b[43mrank\u001b[49m\u001b[38;5;241;43m=\u001b[39;49m\u001b[43mLOCAL_RANK\u001b[49m\u001b[43m,\u001b[49m\u001b[43m \u001b[49m\u001b[43mmode\u001b[49m\u001b[38;5;241;43m=\u001b[39;49m\u001b[38;5;124;43m\"\u001b[39;49m\u001b[38;5;124;43mtrain\u001b[39;49m\u001b[38;5;124;43m\"\u001b[39;49m\u001b[43m)\u001b[49m\n\u001b[0;32m    288\u001b[0m \u001b[38;5;28;01mif\u001b[39;00m RANK \u001b[38;5;129;01min\u001b[39;00m {\u001b[38;5;241m-\u001b[39m\u001b[38;5;241m1\u001b[39m, \u001b[38;5;241m0\u001b[39m}:\n\u001b[0;32m    289\u001b[0m     \u001b[38;5;66;03m# Note: When training DOTA dataset, double batch size could get OOM on images with >2000 objects.\u001b[39;00m\n\u001b[0;32m    290\u001b[0m     \u001b[38;5;28mself\u001b[39m\u001b[38;5;241m.\u001b[39mtest_loader \u001b[38;5;241m=\u001b[39m \u001b[38;5;28mself\u001b[39m\u001b[38;5;241m.\u001b[39mget_dataloader(\n\u001b[0;32m    291\u001b[0m         \u001b[38;5;28mself\u001b[39m\u001b[38;5;241m.\u001b[39mtestset, batch_size\u001b[38;5;241m=\u001b[39mbatch_size \u001b[38;5;28;01mif\u001b[39;00m \u001b[38;5;28mself\u001b[39m\u001b[38;5;241m.\u001b[39margs\u001b[38;5;241m.\u001b[39mtask \u001b[38;5;241m==\u001b[39m \u001b[38;5;124m\"\u001b[39m\u001b[38;5;124mobb\u001b[39m\u001b[38;5;124m\"\u001b[39m \u001b[38;5;28;01melse\u001b[39;00m batch_size \u001b[38;5;241m*\u001b[39m \u001b[38;5;241m2\u001b[39m, rank\u001b[38;5;241m=\u001b[39m\u001b[38;5;241m-\u001b[39m\u001b[38;5;241m1\u001b[39m, mode\u001b[38;5;241m=\u001b[39m\u001b[38;5;124m\"\u001b[39m\u001b[38;5;124mval\u001b[39m\u001b[38;5;124m\"\u001b[39m\n\u001b[0;32m    292\u001b[0m     )\n",
      "File \u001b[1;32mc:\\Users\\mrand\\anaconda3\\envs\\deep-env\\Lib\\site-packages\\ultralytics\\models\\yolo\\detect\\train.py:49\u001b[0m, in \u001b[0;36mDetectionTrainer.get_dataloader\u001b[1;34m(self, dataset_path, batch_size, rank, mode)\u001b[0m\n\u001b[0;32m     47\u001b[0m \u001b[38;5;28;01massert\u001b[39;00m mode \u001b[38;5;129;01min\u001b[39;00m {\u001b[38;5;124m\"\u001b[39m\u001b[38;5;124mtrain\u001b[39m\u001b[38;5;124m\"\u001b[39m, \u001b[38;5;124m\"\u001b[39m\u001b[38;5;124mval\u001b[39m\u001b[38;5;124m\"\u001b[39m}, \u001b[38;5;124mf\u001b[39m\u001b[38;5;124m\"\u001b[39m\u001b[38;5;124mMode must be \u001b[39m\u001b[38;5;124m'\u001b[39m\u001b[38;5;124mtrain\u001b[39m\u001b[38;5;124m'\u001b[39m\u001b[38;5;124m or \u001b[39m\u001b[38;5;124m'\u001b[39m\u001b[38;5;124mval\u001b[39m\u001b[38;5;124m'\u001b[39m\u001b[38;5;124m, not \u001b[39m\u001b[38;5;132;01m{\u001b[39;00mmode\u001b[38;5;132;01m}\u001b[39;00m\u001b[38;5;124m.\u001b[39m\u001b[38;5;124m\"\u001b[39m\n\u001b[0;32m     48\u001b[0m \u001b[38;5;28;01mwith\u001b[39;00m torch_distributed_zero_first(rank):  \u001b[38;5;66;03m# init dataset *.cache only once if DDP\u001b[39;00m\n\u001b[1;32m---> 49\u001b[0m     dataset \u001b[38;5;241m=\u001b[39m \u001b[38;5;28;43mself\u001b[39;49m\u001b[38;5;241;43m.\u001b[39;49m\u001b[43mbuild_dataset\u001b[49m\u001b[43m(\u001b[49m\u001b[43mdataset_path\u001b[49m\u001b[43m,\u001b[49m\u001b[43m \u001b[49m\u001b[43mmode\u001b[49m\u001b[43m,\u001b[49m\u001b[43m \u001b[49m\u001b[43mbatch_size\u001b[49m\u001b[43m)\u001b[49m\n\u001b[0;32m     50\u001b[0m shuffle \u001b[38;5;241m=\u001b[39m mode \u001b[38;5;241m==\u001b[39m \u001b[38;5;124m\"\u001b[39m\u001b[38;5;124mtrain\u001b[39m\u001b[38;5;124m\"\u001b[39m\n\u001b[0;32m     51\u001b[0m \u001b[38;5;28;01mif\u001b[39;00m \u001b[38;5;28mgetattr\u001b[39m(dataset, \u001b[38;5;124m\"\u001b[39m\u001b[38;5;124mrect\u001b[39m\u001b[38;5;124m\"\u001b[39m, \u001b[38;5;28;01mFalse\u001b[39;00m) \u001b[38;5;129;01mand\u001b[39;00m shuffle:\n",
      "File \u001b[1;32mc:\\Users\\mrand\\anaconda3\\envs\\deep-env\\Lib\\site-packages\\ultralytics\\models\\yolo\\detect\\train.py:43\u001b[0m, in \u001b[0;36mDetectionTrainer.build_dataset\u001b[1;34m(self, img_path, mode, batch)\u001b[0m\n\u001b[0;32m     34\u001b[0m \u001b[38;5;250m\u001b[39m\u001b[38;5;124;03m\"\"\"\u001b[39;00m\n\u001b[0;32m     35\u001b[0m \u001b[38;5;124;03mBuild YOLO Dataset.\u001b[39;00m\n\u001b[0;32m     36\u001b[0m \n\u001b[1;32m   (...)\u001b[0m\n\u001b[0;32m     40\u001b[0m \u001b[38;5;124;03m    batch (int, optional): Size of batches, this is for `rect`. Defaults to None.\u001b[39;00m\n\u001b[0;32m     41\u001b[0m \u001b[38;5;124;03m\"\"\"\u001b[39;00m\n\u001b[0;32m     42\u001b[0m gs \u001b[38;5;241m=\u001b[39m \u001b[38;5;28mmax\u001b[39m(\u001b[38;5;28mint\u001b[39m(de_parallel(\u001b[38;5;28mself\u001b[39m\u001b[38;5;241m.\u001b[39mmodel)\u001b[38;5;241m.\u001b[39mstride\u001b[38;5;241m.\u001b[39mmax() \u001b[38;5;28;01mif\u001b[39;00m \u001b[38;5;28mself\u001b[39m\u001b[38;5;241m.\u001b[39mmodel \u001b[38;5;28;01melse\u001b[39;00m \u001b[38;5;241m0\u001b[39m), \u001b[38;5;241m32\u001b[39m)\n\u001b[1;32m---> 43\u001b[0m \u001b[38;5;28;01mreturn\u001b[39;00m \u001b[43mbuild_yolo_dataset\u001b[49m\u001b[43m(\u001b[49m\u001b[38;5;28;43mself\u001b[39;49m\u001b[38;5;241;43m.\u001b[39;49m\u001b[43margs\u001b[49m\u001b[43m,\u001b[49m\u001b[43m \u001b[49m\u001b[43mimg_path\u001b[49m\u001b[43m,\u001b[49m\u001b[43m \u001b[49m\u001b[43mbatch\u001b[49m\u001b[43m,\u001b[49m\u001b[43m \u001b[49m\u001b[38;5;28;43mself\u001b[39;49m\u001b[38;5;241;43m.\u001b[39;49m\u001b[43mdata\u001b[49m\u001b[43m,\u001b[49m\u001b[43m \u001b[49m\u001b[43mmode\u001b[49m\u001b[38;5;241;43m=\u001b[39;49m\u001b[43mmode\u001b[49m\u001b[43m,\u001b[49m\u001b[43m \u001b[49m\u001b[43mrect\u001b[49m\u001b[38;5;241;43m=\u001b[39;49m\u001b[43mmode\u001b[49m\u001b[43m \u001b[49m\u001b[38;5;241;43m==\u001b[39;49m\u001b[43m \u001b[49m\u001b[38;5;124;43m\"\u001b[39;49m\u001b[38;5;124;43mval\u001b[39;49m\u001b[38;5;124;43m\"\u001b[39;49m\u001b[43m,\u001b[49m\u001b[43m \u001b[49m\u001b[43mstride\u001b[49m\u001b[38;5;241;43m=\u001b[39;49m\u001b[43mgs\u001b[49m\u001b[43m)\u001b[49m\n",
      "File \u001b[1;32mc:\\Users\\mrand\\anaconda3\\envs\\deep-env\\Lib\\site-packages\\ultralytics\\data\\build.py:99\u001b[0m, in \u001b[0;36mbuild_yolo_dataset\u001b[1;34m(cfg, img_path, batch, data, mode, rect, stride, multi_modal)\u001b[0m\n\u001b[0;32m     97\u001b[0m \u001b[38;5;250m\u001b[39m\u001b[38;5;124;03m\"\"\"Build YOLO Dataset.\"\"\"\u001b[39;00m\n\u001b[0;32m     98\u001b[0m dataset \u001b[38;5;241m=\u001b[39m YOLOMultiModalDataset \u001b[38;5;28;01mif\u001b[39;00m multi_modal \u001b[38;5;28;01melse\u001b[39;00m YOLODataset\n\u001b[1;32m---> 99\u001b[0m \u001b[38;5;28;01mreturn\u001b[39;00m \u001b[43mdataset\u001b[49m\u001b[43m(\u001b[49m\n\u001b[0;32m    100\u001b[0m \u001b[43m    \u001b[49m\u001b[43mimg_path\u001b[49m\u001b[38;5;241;43m=\u001b[39;49m\u001b[43mimg_path\u001b[49m\u001b[43m,\u001b[49m\n\u001b[0;32m    101\u001b[0m \u001b[43m    \u001b[49m\u001b[43mimgsz\u001b[49m\u001b[38;5;241;43m=\u001b[39;49m\u001b[43mcfg\u001b[49m\u001b[38;5;241;43m.\u001b[39;49m\u001b[43mimgsz\u001b[49m\u001b[43m,\u001b[49m\n\u001b[0;32m    102\u001b[0m \u001b[43m    \u001b[49m\u001b[43mbatch_size\u001b[49m\u001b[38;5;241;43m=\u001b[39;49m\u001b[43mbatch\u001b[49m\u001b[43m,\u001b[49m\n\u001b[0;32m    103\u001b[0m \u001b[43m    \u001b[49m\u001b[43maugment\u001b[49m\u001b[38;5;241;43m=\u001b[39;49m\u001b[43mmode\u001b[49m\u001b[43m \u001b[49m\u001b[38;5;241;43m==\u001b[39;49m\u001b[43m \u001b[49m\u001b[38;5;124;43m\"\u001b[39;49m\u001b[38;5;124;43mtrain\u001b[39;49m\u001b[38;5;124;43m\"\u001b[39;49m\u001b[43m,\u001b[49m\u001b[43m  \u001b[49m\u001b[38;5;66;43;03m# augmentation\u001b[39;49;00m\n\u001b[0;32m    104\u001b[0m \u001b[43m    \u001b[49m\u001b[43mhyp\u001b[49m\u001b[38;5;241;43m=\u001b[39;49m\u001b[43mcfg\u001b[49m\u001b[43m,\u001b[49m\u001b[43m  \u001b[49m\u001b[38;5;66;43;03m# TODO: probably add a get_hyps_from_cfg function\u001b[39;49;00m\n\u001b[0;32m    105\u001b[0m \u001b[43m    \u001b[49m\u001b[43mrect\u001b[49m\u001b[38;5;241;43m=\u001b[39;49m\u001b[43mcfg\u001b[49m\u001b[38;5;241;43m.\u001b[39;49m\u001b[43mrect\u001b[49m\u001b[43m \u001b[49m\u001b[38;5;129;43;01mor\u001b[39;49;00m\u001b[43m \u001b[49m\u001b[43mrect\u001b[49m\u001b[43m,\u001b[49m\u001b[43m  \u001b[49m\u001b[38;5;66;43;03m# rectangular batches\u001b[39;49;00m\n\u001b[0;32m    106\u001b[0m \u001b[43m    \u001b[49m\u001b[43mcache\u001b[49m\u001b[38;5;241;43m=\u001b[39;49m\u001b[43mcfg\u001b[49m\u001b[38;5;241;43m.\u001b[39;49m\u001b[43mcache\u001b[49m\u001b[43m \u001b[49m\u001b[38;5;129;43;01mor\u001b[39;49;00m\u001b[43m \u001b[49m\u001b[38;5;28;43;01mNone\u001b[39;49;00m\u001b[43m,\u001b[49m\n\u001b[0;32m    107\u001b[0m \u001b[43m    \u001b[49m\u001b[43msingle_cls\u001b[49m\u001b[38;5;241;43m=\u001b[39;49m\u001b[43mcfg\u001b[49m\u001b[38;5;241;43m.\u001b[39;49m\u001b[43msingle_cls\u001b[49m\u001b[43m \u001b[49m\u001b[38;5;129;43;01mor\u001b[39;49;00m\u001b[43m \u001b[49m\u001b[38;5;28;43;01mFalse\u001b[39;49;00m\u001b[43m,\u001b[49m\n\u001b[0;32m    108\u001b[0m \u001b[43m    \u001b[49m\u001b[43mstride\u001b[49m\u001b[38;5;241;43m=\u001b[39;49m\u001b[38;5;28;43mint\u001b[39;49m\u001b[43m(\u001b[49m\u001b[43mstride\u001b[49m\u001b[43m)\u001b[49m\u001b[43m,\u001b[49m\n\u001b[0;32m    109\u001b[0m \u001b[43m    \u001b[49m\u001b[43mpad\u001b[49m\u001b[38;5;241;43m=\u001b[39;49m\u001b[38;5;241;43m0.0\u001b[39;49m\u001b[43m \u001b[49m\u001b[38;5;28;43;01mif\u001b[39;49;00m\u001b[43m \u001b[49m\u001b[43mmode\u001b[49m\u001b[43m \u001b[49m\u001b[38;5;241;43m==\u001b[39;49m\u001b[43m \u001b[49m\u001b[38;5;124;43m\"\u001b[39;49m\u001b[38;5;124;43mtrain\u001b[39;49m\u001b[38;5;124;43m\"\u001b[39;49m\u001b[43m \u001b[49m\u001b[38;5;28;43;01melse\u001b[39;49;00m\u001b[43m \u001b[49m\u001b[38;5;241;43m0.5\u001b[39;49m\u001b[43m,\u001b[49m\n\u001b[0;32m    110\u001b[0m \u001b[43m    \u001b[49m\u001b[43mprefix\u001b[49m\u001b[38;5;241;43m=\u001b[39;49m\u001b[43mcolorstr\u001b[49m\u001b[43m(\u001b[49m\u001b[38;5;124;43mf\u001b[39;49m\u001b[38;5;124;43m\"\u001b[39;49m\u001b[38;5;132;43;01m{\u001b[39;49;00m\u001b[43mmode\u001b[49m\u001b[38;5;132;43;01m}\u001b[39;49;00m\u001b[38;5;124;43m: \u001b[39;49m\u001b[38;5;124;43m\"\u001b[39;49m\u001b[43m)\u001b[49m\u001b[43m,\u001b[49m\n\u001b[0;32m    111\u001b[0m \u001b[43m    \u001b[49m\u001b[43mtask\u001b[49m\u001b[38;5;241;43m=\u001b[39;49m\u001b[43mcfg\u001b[49m\u001b[38;5;241;43m.\u001b[39;49m\u001b[43mtask\u001b[49m\u001b[43m,\u001b[49m\n\u001b[0;32m    112\u001b[0m \u001b[43m    \u001b[49m\u001b[43mclasses\u001b[49m\u001b[38;5;241;43m=\u001b[39;49m\u001b[43mcfg\u001b[49m\u001b[38;5;241;43m.\u001b[39;49m\u001b[43mclasses\u001b[49m\u001b[43m,\u001b[49m\n\u001b[0;32m    113\u001b[0m \u001b[43m    \u001b[49m\u001b[43mdata\u001b[49m\u001b[38;5;241;43m=\u001b[39;49m\u001b[43mdata\u001b[49m\u001b[43m,\u001b[49m\n\u001b[0;32m    114\u001b[0m \u001b[43m    \u001b[49m\u001b[43mfraction\u001b[49m\u001b[38;5;241;43m=\u001b[39;49m\u001b[43mcfg\u001b[49m\u001b[38;5;241;43m.\u001b[39;49m\u001b[43mfraction\u001b[49m\u001b[43m \u001b[49m\u001b[38;5;28;43;01mif\u001b[39;49;00m\u001b[43m \u001b[49m\u001b[43mmode\u001b[49m\u001b[43m \u001b[49m\u001b[38;5;241;43m==\u001b[39;49m\u001b[43m \u001b[49m\u001b[38;5;124;43m\"\u001b[39;49m\u001b[38;5;124;43mtrain\u001b[39;49m\u001b[38;5;124;43m\"\u001b[39;49m\u001b[43m \u001b[49m\u001b[38;5;28;43;01melse\u001b[39;49;00m\u001b[43m \u001b[49m\u001b[38;5;241;43m1.0\u001b[39;49m\u001b[43m,\u001b[49m\n\u001b[0;32m    115\u001b[0m \u001b[43m\u001b[49m\u001b[43m)\u001b[49m\n",
      "File \u001b[1;32mc:\\Users\\mrand\\anaconda3\\envs\\deep-env\\Lib\\site-packages\\ultralytics\\data\\dataset.py:64\u001b[0m, in \u001b[0;36mYOLODataset.__init__\u001b[1;34m(self, data, task, *args, **kwargs)\u001b[0m\n\u001b[0;32m     62\u001b[0m \u001b[38;5;28mself\u001b[39m\u001b[38;5;241m.\u001b[39mdata \u001b[38;5;241m=\u001b[39m data\n\u001b[0;32m     63\u001b[0m \u001b[38;5;28;01massert\u001b[39;00m \u001b[38;5;129;01mnot\u001b[39;00m (\u001b[38;5;28mself\u001b[39m\u001b[38;5;241m.\u001b[39muse_segments \u001b[38;5;129;01mand\u001b[39;00m \u001b[38;5;28mself\u001b[39m\u001b[38;5;241m.\u001b[39muse_keypoints), \u001b[38;5;124m\"\u001b[39m\u001b[38;5;124mCan not use both segments and keypoints.\u001b[39m\u001b[38;5;124m\"\u001b[39m\n\u001b[1;32m---> 64\u001b[0m \u001b[38;5;28;43msuper\u001b[39;49m\u001b[43m(\u001b[49m\u001b[43m)\u001b[49m\u001b[38;5;241;43m.\u001b[39;49m\u001b[38;5;21;43m__init__\u001b[39;49m\u001b[43m(\u001b[49m\u001b[38;5;241;43m*\u001b[39;49m\u001b[43margs\u001b[49m\u001b[43m,\u001b[49m\u001b[43m \u001b[49m\u001b[38;5;241;43m*\u001b[39;49m\u001b[38;5;241;43m*\u001b[39;49m\u001b[43mkwargs\u001b[49m\u001b[43m)\u001b[49m\n",
      "File \u001b[1;32mc:\\Users\\mrand\\anaconda3\\envs\\deep-env\\Lib\\site-packages\\ultralytics\\data\\base.py:74\u001b[0m, in \u001b[0;36mBaseDataset.__init__\u001b[1;34m(self, img_path, imgsz, cache, augment, hyp, prefix, rect, batch_size, stride, pad, single_cls, classes, fraction)\u001b[0m\n\u001b[0;32m     72\u001b[0m \u001b[38;5;28mself\u001b[39m\u001b[38;5;241m.\u001b[39mfraction \u001b[38;5;241m=\u001b[39m fraction\n\u001b[0;32m     73\u001b[0m \u001b[38;5;28mself\u001b[39m\u001b[38;5;241m.\u001b[39mim_files \u001b[38;5;241m=\u001b[39m \u001b[38;5;28mself\u001b[39m\u001b[38;5;241m.\u001b[39mget_img_files(\u001b[38;5;28mself\u001b[39m\u001b[38;5;241m.\u001b[39mimg_path)\n\u001b[1;32m---> 74\u001b[0m \u001b[38;5;28mself\u001b[39m\u001b[38;5;241m.\u001b[39mlabels \u001b[38;5;241m=\u001b[39m \u001b[38;5;28;43mself\u001b[39;49m\u001b[38;5;241;43m.\u001b[39;49m\u001b[43mget_labels\u001b[49m\u001b[43m(\u001b[49m\u001b[43m)\u001b[49m\n\u001b[0;32m     75\u001b[0m \u001b[38;5;28mself\u001b[39m\u001b[38;5;241m.\u001b[39mupdate_labels(include_class\u001b[38;5;241m=\u001b[39mclasses)  \u001b[38;5;66;03m# single_cls and include_class\u001b[39;00m\n\u001b[0;32m     76\u001b[0m \u001b[38;5;28mself\u001b[39m\u001b[38;5;241m.\u001b[39mni \u001b[38;5;241m=\u001b[39m \u001b[38;5;28mlen\u001b[39m(\u001b[38;5;28mself\u001b[39m\u001b[38;5;241m.\u001b[39mlabels)  \u001b[38;5;66;03m# number of images\u001b[39;00m\n",
      "File \u001b[1;32mc:\\Users\\mrand\\anaconda3\\envs\\deep-env\\Lib\\site-packages\\ultralytics\\data\\dataset.py:161\u001b[0m, in \u001b[0;36mYOLODataset.get_labels\u001b[1;34m(self)\u001b[0m\n\u001b[0;32m    159\u001b[0m \u001b[38;5;66;03m# Check if the dataset is all boxes or all segments\u001b[39;00m\n\u001b[0;32m    160\u001b[0m lengths \u001b[38;5;241m=\u001b[39m ((\u001b[38;5;28mlen\u001b[39m(lb[\u001b[38;5;124m\"\u001b[39m\u001b[38;5;124mcls\u001b[39m\u001b[38;5;124m\"\u001b[39m]), \u001b[38;5;28mlen\u001b[39m(lb[\u001b[38;5;124m\"\u001b[39m\u001b[38;5;124mbboxes\u001b[39m\u001b[38;5;124m\"\u001b[39m]), \u001b[38;5;28mlen\u001b[39m(lb[\u001b[38;5;124m\"\u001b[39m\u001b[38;5;124msegments\u001b[39m\u001b[38;5;124m\"\u001b[39m])) \u001b[38;5;28;01mfor\u001b[39;00m lb \u001b[38;5;129;01min\u001b[39;00m labels)\n\u001b[1;32m--> 161\u001b[0m len_cls, len_boxes, len_segments \u001b[38;5;241m=\u001b[39m (\u001b[38;5;28msum\u001b[39m(x) \u001b[38;5;28;01mfor\u001b[39;00m x \u001b[38;5;129;01min\u001b[39;00m \u001b[38;5;28mzip\u001b[39m(\u001b[38;5;241m*\u001b[39mlengths))\n\u001b[0;32m    162\u001b[0m \u001b[38;5;28;01mif\u001b[39;00m len_segments \u001b[38;5;129;01mand\u001b[39;00m len_boxes \u001b[38;5;241m!=\u001b[39m len_segments:\n\u001b[0;32m    163\u001b[0m     LOGGER\u001b[38;5;241m.\u001b[39mwarning(\n\u001b[0;32m    164\u001b[0m         \u001b[38;5;124mf\u001b[39m\u001b[38;5;124m\"\u001b[39m\u001b[38;5;124mWARNING ⚠️ Box and segment counts should be equal, but got len(segments) = \u001b[39m\u001b[38;5;132;01m{\u001b[39;00mlen_segments\u001b[38;5;132;01m}\u001b[39;00m\u001b[38;5;124m, \u001b[39m\u001b[38;5;124m\"\u001b[39m\n\u001b[0;32m    165\u001b[0m         \u001b[38;5;124mf\u001b[39m\u001b[38;5;124m\"\u001b[39m\u001b[38;5;124mlen(boxes) = \u001b[39m\u001b[38;5;132;01m{\u001b[39;00mlen_boxes\u001b[38;5;132;01m}\u001b[39;00m\u001b[38;5;124m. To resolve this only boxes will be used and all segments will be removed. \u001b[39m\u001b[38;5;124m\"\u001b[39m\n\u001b[0;32m    166\u001b[0m         \u001b[38;5;124m\"\u001b[39m\u001b[38;5;124mTo avoid this please supply either a detect or segment dataset, not a detect-segment mixed dataset.\u001b[39m\u001b[38;5;124m\"\u001b[39m\n\u001b[0;32m    167\u001b[0m     )\n",
      "\u001b[1;31mValueError\u001b[0m: not enough values to unpack (expected 3, got 0)"
     ]
    }
   ],
   "source": [
    "model.train(\n",
    "    data=\"D:/projects_2025/m2_SISE_Deep_Learning/data/data.yaml\", \n",
    "    epochs=50,  \n",
    "    batch=16  \n",
    ")"
   ]
  }
 ],
 "metadata": {
  "kernelspec": {
   "display_name": "deep-env",
   "language": "python",
   "name": "python3"
  },
  "language_info": {
   "codemirror_mode": {
    "name": "ipython",
    "version": 3
   },
   "file_extension": ".py",
   "mimetype": "text/x-python",
   "name": "python",
   "nbconvert_exporter": "python",
   "pygments_lexer": "ipython3",
   "version": "3.12.8"
  }
 },
 "nbformat": 4,
 "nbformat_minor": 2
}
